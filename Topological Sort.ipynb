{
 "cells": [
  {
   "cell_type": "markdown",
   "metadata": {},
   "source": [
    "Topologicla Sort of a derected graph(a graph with undirectional edges) is a linear ordering of its vertices such that for every directed edge(U, V) from vertex U to vertex V, U comes before V in the ordering\n",
    "Basic of topological sorting\n",
    "1. Source: any node that has no incoming edge and has only outgoing edges is called source\n",
    "2. Sink: any node that has only incoming edges and no outgoing edge is called a sink\n",
    "3. Topological odering starts with one of the sources and ends at one of the sinks\n",
    "4. Topological ordering is possible only when teh graph has no directed cycles, if the graph is a Directed Acyclic Graph (DAG). \n",
    "BFS: starts with all the sources, and save all sources to a sorted list. \n",
    "Then remove all sources and their edges from teh graph. After the removal, we will have new sources, so we will repeat process until all vertices are visited.\n",
    "(1) store the graph iin `Adjacency Lists`, each parent vertex will have a list containing all of its children. Use `HashMap`, key is parent vertex and value will be a list containing chldren vertices.\n",
    "(2) to find sources, we will keep `HashMap` to count the in-degree ie. count for incoming edges of each vertex. Any vertex with '0' in-degree will be a source\n"
   ]
  },
  {
   "cell_type": "code",
   "execution_count": 6,
   "metadata": {},
   "outputs": [
    {
     "name": "stdout",
     "output_type": "stream",
     "text": [
      "Topological sort: [3, 2, 0, 1]\n",
      "Topological sort: [4, 2, 3, 0, 1]\n",
      "Topological sort: [5, 6, 3, 4, 0, 2, 1]\n"
     ]
    }
   ],
   "source": [
    "from collections import deque\n",
    "\n",
    "\n",
    "def topological_sort(vertices, edges):\n",
    "    sortedOrder = []\n",
    "    if vertices <= 0:\n",
    "        return sortedOrder\n",
    "\n",
    "    # a. Initialize the graph\n",
    "    inDegree = {i: 0 for i in range(vertices)}  # count of incoming edges\n",
    "    graph = {i: [] for i in range(vertices)}  # adjacency list graph\n",
    "\n",
    "    # b. Build the graph\n",
    "    for edge in edges:\n",
    "        parent, child = edge[0], edge[1]\n",
    "        graph[parent].append(child)  # put the child into it's parent's list\n",
    "        inDegree[child] += 1  # increment child's inDegree\n",
    "\n",
    "    # c. Find all sources i.e., all vertices with 0 in-degrees\n",
    "    sources = deque()\n",
    "    for key in inDegree:\n",
    "        if inDegree[key] == 0:\n",
    "            sources.append(key)\n",
    "\n",
    "    # d. For each source, add it to the sortedOrder and subtract one from all of its children's in-degrees\n",
    "    # if a child's in-degree becomes zero, add it to the sources queue\n",
    "    while sources:\n",
    "        vertex = sources.popleft()\n",
    "        sortedOrder.append(vertex)\n",
    "        for child in graph[vertex]:  # get the node's children to decrement their in-degrees\n",
    "            inDegree[child] -= 1\n",
    "            if inDegree[child] == 0:\n",
    "                sources.append(child)\n",
    "\n",
    "    # topological sort is not possible as the graph has a cycle\n",
    "    if len(sortedOrder) != vertices:\n",
    "        return []\n",
    "\n",
    "    return sortedOrder\n",
    "\n",
    "# Time Complexity\n",
    "\"\"\"\n",
    "In step 'd', each vertex will become a source only and each edge will be accessed and removed once.\n",
    "Time complexity is O(V + E), V is the total number of vertices and E is the total number of edges in teh graph\n",
    "\"\"\"\n",
    "# Space Complexity\n",
    "\"\"\"\n",
    "The space complexity is O(V + E), since we store all the edges for each vertex in an adacent list.\n",
    "\"\"\"\n",
    "\n",
    "\n",
    "def main():\n",
    "    print(\"Topological sort: \" +\n",
    "        str(topological_sort(4, [[3, 2], [3, 0], [2, 0], [2, 1]])))\n",
    "    print(\"Topological sort: \" +\n",
    "        str(topological_sort(5, [[4, 2], [4, 3], [2, 0], [2, 1], [3, 1]])))\n",
    "    print(\"Topological sort: \" +\n",
    "        str(topological_sort(7, [[6, 4], [6, 2], [5, 3], [5, 4], [3, 0], [3, 1], [3, 2], [4, 1]])))\n",
    "\n",
    "\n",
    "main()\n"
   ]
  },
  {
   "cell_type": "code",
   "execution_count": null,
   "metadata": {},
   "outputs": [],
   "source": []
  }
 ],
 "metadata": {
  "kernelspec": {
   "display_name": "Python 2",
   "language": "python",
   "name": "python2"
  },
  "language_info": {
   "codemirror_mode": {
    "name": "ipython",
    "version": 2
   },
   "file_extension": ".py",
   "mimetype": "text/x-python",
   "name": "python",
   "nbconvert_exporter": "python",
   "pygments_lexer": "ipython2",
   "version": "2.7.17"
  }
 },
 "nbformat": 4,
 "nbformat_minor": 2
}
