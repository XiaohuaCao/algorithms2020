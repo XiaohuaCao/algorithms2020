{
 "cells": [
  {
   "cell_type": "markdown",
   "metadata": {},
   "source": [
    "In many problems dealing with an array (or linkedList), we are asked to find or calculate someting among all the contiguous subarrays (or sublists) of a given size"
   ]
  },
  {
   "cell_type": "code",
   "execution_count": 5,
   "metadata": {},
   "outputs": [
    {
     "name": "stdout",
     "output_type": "stream",
     "text": [
      "Averages of subarrays of size K: [2.2, 2.8, 2.4, 3.6, 2.8]\n"
     ]
    }
   ],
   "source": [
    "# Example 1: given an array, find the average of all contguous subarrays of size 'k' in it\n",
    "def find_averages_of_subarrays(K, arr):\n",
    "    result = []\n",
    "    windowSum, windowStart = 0.0, 0\n",
    "    for windowEnd in range(len(arr)):\n",
    "        windowSum += arr[windowEnd]  # add the next element\n",
    "        # slide the window, we don't need to slide if we've not hit the required window size of 'k'\n",
    "        if windowEnd >= K - 1:\n",
    "            result.append(windowSum / K)  # calculate the average\n",
    "            windowSum -= arr[windowStart]  # subtract the element going out\n",
    "            windowStart += 1  # slide the window ahead\n",
    "\n",
    "    return result\n",
    "\n",
    "\n",
    "def main():\n",
    "    result = find_averages_of_subarrays(5, [1, 3, 2, 6, -1, 4, 1, 8, 2])\n",
    "    print(\"Averages of subarrays of size K: \" + str(result))\n",
    "\n",
    "main()\n"
   ]
  },
  {
   "cell_type": "code",
   "execution_count": null,
   "metadata": {},
   "outputs": [],
   "source": [
    "# Example 2: Maximum Sum Subarray of Size K\n",
    "# Given an array of positive numbers and a positive number ‘k’, find the maximum sum of any contiguous subarray of size ‘k’."
   ]
  },
  {
   "cell_type": "code",
   "execution_count": 7,
   "metadata": {},
   "outputs": [
    {
     "name": "stdout",
     "output_type": "stream",
     "text": [
      "Maximum sum of a subarray of size K: 14\n",
      "Maximum sum of a subarray of size K: 15\n"
     ]
    }
   ],
   "source": [
    "def max_sub_array_of_size_k(k, arr):\n",
    "    max_sum , window_sum = 0, 0\n",
    "    window_start = 0\n",
    "\n",
    "    for window_end in range(len(arr)):\n",
    "        window_sum += arr[window_end]  # add the next element\n",
    "        # slide the window, we don't need to slide if we've not hit the required window size of 'k'\n",
    "        if window_end >= k-1:\n",
    "            max_sum = max(max_sum, window_sum)\n",
    "            window_sum -= arr[window_start]  # subtract the element going out\n",
    "            window_start += 1  # slide the window ahead\n",
    "    return max_sum\n",
    "\n",
    "\n",
    "def main():\n",
    "    print(\"Maximum sum of a subarray of size K: \" + str(max_sub_array_of_size_k(3, [2, 1, 5, 1, 3, 2])))\n",
    "    print(\"Maximum sum of a subarray of size K: \" + str(max_sub_array_of_size_k(2, [2, 3, 4, 1, 5])))\n",
    "\n",
    "main()\n"
   ]
  },
  {
   "cell_type": "markdown",
   "metadata": {},
   "source": [
    "#### Example 3: Longest Substring with K Distinct Characters (medium)\n",
    "Given a string, find the length of the longest substring in it with no more than K distinct characters.\n",
    "This problem follows the Sliding Window pattern and we can use a similar dynamic sliding window strategy as discussed in Smallest Subarray with a given sum. We can use a HashMap to remember the frequency of each character we have processed. Here is how we will solve this problem:\n",
    "\n",
    "* First, we will insert characters from the beginning of the string until we have ‘K’ distinct characters in the HashMap.\n",
    "* These characters will constitute our sliding window. We are asked to find the longest such window having no more than ‘K’ distinct characters. We will remember the length of this window as the longest window so far.\n",
    "* After this, we will keep adding one character in the sliding window (i.e. slide the window ahead), in a stepwise fashion.\n",
    "* In each step, we will try to shrink the window from the beginning if the count of distinct characters in the HashMap is larger than ‘K’. We will shrink the window until we have no more than ‘K’ distinct characters in the HashMap. This is needed as we intend to find the longest window.\n",
    "* While shrinking, we’ll decrement the frequency of the character going out of the window and remove it from the HashMap if its frequency becomes zero.\n",
    "* At the end of each step, we’ll check if the current window length is the longest so far, and if so, remember its length.\n",
    "Time Complexity #\n",
    "The time complexity of the above algorithm will be O(N)O(N) where ‘N’ is the number of characters in the input string. The outer for loop runs for all characters and the inner while loop processes each character only once, therefore the time complexity of the algorithm will be O(N+N)O(N+N) which is asymptotically equivalent to O(N)O(N).\n",
    "\n",
    "Space Complexity #\n",
    "The space complexity of the algorithm is O(K)O(K), as we will be storing a maximum of ‘K+1’ characters in the HashMap."
   ]
  },
  {
   "cell_type": "code",
   "execution_count": 10,
   "metadata": {},
   "outputs": [
    {
     "name": "stdout",
     "output_type": "stream",
     "text": [
      "Length of the longest substr1ing: 4\n",
      "Length of the longest substr1ing: 2\n",
      "Length of the longest substr1ing: 5\n"
     ]
    }
   ],
   "source": [
    "def longest_substring_with_k_distinct(str1, k):\n",
    "    window_start = 0\n",
    "    max_length = 0\n",
    "    char_frequency = {}\n",
    "\n",
    "    # in the following loop we'll try to extend the range [window_start, window_end]\n",
    "    for window_end in range(len(str1)):\n",
    "        right_char = str1[window_end]\n",
    "        if right_char not in char_frequency:\n",
    "            char_frequency[right_char] = 0\n",
    "        char_frequency[right_char] += 1\n",
    "\n",
    "        # shrink the sliding window, until we are left with 'k' distinct characters in the char_frequency\n",
    "        while len(char_frequency) > k:\n",
    "            left_char = str1[window_start]\n",
    "            char_frequency[left_char] -= 1\n",
    "            if char_frequency[left_char] == 0:\n",
    "                del char_frequency[left_char]\n",
    "            window_start += 1  # shrink the window\n",
    "        # remember the maximum length so far\n",
    "        max_length = max(max_length, window_end-window_start + 1)\n",
    "    return max_length\n",
    "\n",
    "\n",
    "def main():\n",
    "    print(\"Length of the longest substr1ing: \" + str(longest_substring_with_k_distinct(\"araaci\", 2)))\n",
    "    print(\"Length of the longest substr1ing: \" + str(longest_substring_with_k_distinct(\"araaci\", 1)))\n",
    "    print(\"Length of the longest substr1ing: \" + str(longest_substring_with_k_distinct(\"cbbebi\", 3)))\n",
    "\n",
    "\n",
    "main()\n"
   ]
  },
  {
   "cell_type": "markdown",
   "metadata": {},
   "source": [
    "#### Longest Substring with Same Letters after Replacement (hard)\n",
    "Given a string with lowercase letters only, if you are allowed to replace no more than ‘k’ letters with any letter, find the length of the longest substring having the same letters after replacement.\n",
    "Input: String=\"aabccbb\", k=2\n",
    "Output: 5\n",
    "Explanation: Replace the two 'c' with 'b' to have a longest repeating substring \"bbbbb\".\n",
    "\n",
    "We’ll iterate through the string to add one letter at a time in the window. We’ll also keep track of the count of the maximum repeating letter in any window (let’s call it maxRepeatLetterCount). So at any time, we know that we can have a window which has one letter repeating maxRepeatLetterCount times, this means we should try to replace the remaining letters. If we have more than ‘k’ remaining letters, we should shrink the window as we are not allowed to replace more than ‘k’ letters."
   ]
  },
  {
   "cell_type": "code",
   "execution_count": 13,
   "metadata": {},
   "outputs": [
    {
     "name": "stdout",
     "output_type": "stream",
     "text": [
      "5\n",
      "4\n",
      "3\n"
     ]
    }
   ],
   "source": [
    "def length_of_longest_substring(str1, k):\n",
    "    window_start, max_length, max_repeat_letter_count = 0, 0, 0\n",
    "    frequency_map = {}\n",
    "\n",
    "    # Try to extend the range [window_start, window_end]\n",
    "    for window_end in range(len(str1)):\n",
    "        right_char = str1[window_end]\n",
    "        if right_char not in frequency_map:\n",
    "            frequency_map[right_char] = 0\n",
    "        frequency_map[right_char] += 1\n",
    "        max_repeat_letter_count = max(max_repeat_letter_count, frequency_map[right_char])\n",
    "\n",
    "        # Current window size is from window_start to window_end, overall we have a letter which is\n",
    "        # repeating 'max_repeat_letter_count' times, this means we can have a window which has one letter\n",
    "        # repeating 'max_repeat_letter_count' times and the remaining letters we should replace.\n",
    "        # if the remaining letters are more than 'k', it is the time to shrink the window as we\n",
    "        # are not allowed to replace more than 'k' letters\n",
    "        if (window_end - window_start + 1 - max_repeat_letter_count) > k:\n",
    "            left_char = str1[window_start]\n",
    "            frequency_map[left_char] -= 1\n",
    "            window_start += 1\n",
    "        max_length = max(max_length, window_end - window_start + 1)\n",
    "    return max_length\n",
    "\n",
    "\n",
    "def main():\n",
    "    print(length_of_longest_substring(\"aabccbb\", 2))\n",
    "    print(length_of_longest_substring(\"abbcb\", 1))\n",
    "    print(length_of_longest_substring(\"abccde\", 1))\n",
    "\n",
    "\n",
    "main()"
   ]
  },
  {
   "cell_type": "markdown",
   "metadata": {},
   "source": [
    "#### Example 4: Permutation in a String (hard)\n",
    "Given a string and a pattern, find out if the string contains any permutation of the pattern.\n",
    "\n",
    "Permutation is defined as the re-arranging of the characters of the string. For example, “abc” has the following six permutations:\n",
    "\n",
    "abc\n",
    "acb\n",
    "bac\n",
    "bca\n",
    "cab\n",
    "cba\n",
    "If a string has ‘n’ distinct characters it will have n!n! permutations.\n",
    "\n",
    "nput: String=\"oidbcaf\", Pattern=\"abc\"\n",
    "Output: true\n",
    "Explanation: The string contains \"bca\" which is a permutation of the given pattern.\n",
    "\n",
    "We can use a HashMap to remember the frequencies of all characters in the given pattern. Our goal will be to match all the characters from this HashMap with a sliding window in the given string. Here are the steps of our algorithm:\n",
    "\n",
    "Create a HashMap to calculate the frequencies of all characters in the pattern.\n",
    "Iterate through the string, adding one character at a time in the sliding window.\n",
    "If the character being added matches a character in the HashMap, decrement its frequency in the map. If the character frequency becomes zero, we got a complete match.\n",
    "If at any time, the number of characters matched is equal to the number of distinct characters in the pattern (i.e., total characters in the HashMap), we have gotten our required permutation.\n",
    "If the window size is greater than the length of the pattern, shrink the window to make it equal to the size of the pattern. At the same time, if the character going out was part of the pattern, put it back in the frequency HashMap.\n",
    "\n",
    "Time Complexity #\n",
    "The time complexity of the above algorithm will be O(N + M)O(N+M) where ‘N’ and ‘M’ are the number of characters in the input string and the pattern respectively.\n",
    "\n",
    "Space Complexity #\n",
    "The space complexity of the algorithm is O(M)O(M) since in the worst case, the whole pattern can have distinct characters which will go into the HashMap."
   ]
  },
  {
   "cell_type": "code",
   "execution_count": 19,
   "metadata": {},
   "outputs": [
    {
     "name": "stdout",
     "output_type": "stream",
     "text": [
      "Permutation exist: True\n",
      "Permutation exist: False\n",
      "Permutation exist: True\n",
      "Permutation exist: True\n"
     ]
    }
   ],
   "source": [
    "def find_permutation(str1, pattern):\n",
    "    window_start, matched = 0, 0\n",
    "    char_frequency = {}\n",
    "\n",
    "    for chr in pattern:\n",
    "        if chr not in char_frequency:\n",
    "            char_frequency[chr] = 0\n",
    "        char_frequency[chr] += 1\n",
    "\n",
    "    # our goal is to match all the characters from the 'char_frequency' with the current window\n",
    "    # try to extend the range [window_start, window_end]\n",
    "    for window_end in range(len(str1)):\n",
    "        right_char = str1[window_end]\n",
    "        if right_char in char_frequency:\n",
    "            # decrement the frequency of matched character\n",
    "            char_frequency[right_char] -= 1\n",
    "            if char_frequency[right_char] == 0:\n",
    "                matched += 1\n",
    "\n",
    "        if matched == len(char_frequency):\n",
    "            return True\n",
    "\n",
    "        # shrink the window by one character\n",
    "        if window_end >= len(pattern) - 1:\n",
    "            left_char = str1[window_start]\n",
    "            window_start += 1\n",
    "            if left_char in char_frequency:\n",
    "                if char_frequency[left_char] == 0:\n",
    "                    matched -= 1\n",
    "                char_frequency[left_char] += 1\n",
    "\n",
    "    return False\n",
    "\n",
    "\n",
    "def main():\n",
    "    print('Permutation exist: ' + str(find_permutation(\"oidbcaf\", \"abc\")))\n",
    "    print('Permutation exist: ' + str(find_permutation(\"odicf\", \"dc\")))\n",
    "    print('Permutation exist: ' + str(find_permutation(\"bcdxabcdy\", \"bcdyabcdx\")))\n",
    "    print('Permutation exist: ' + str(find_permutation(\"aaacb\", \"abc\")))\n",
    "\n",
    "\n",
    "main()"
   ]
  },
  {
   "cell_type": "markdown",
   "metadata": {},
   "source": [
    "#### Example 5: String Anagrams (hard)\n",
    "Given a string and a pattern, find all anagrams of the pattern in the given string.\n",
    "\n",
    "Anagram is actually a Permutation of a string. For example, “abc” has the following six anagrams:\n",
    "\n",
    "abc\n",
    "acb\n",
    "bac\n",
    "bca\n",
    "cab\n",
    "cba\n",
    "Write a function to return a list of starting indices of the anagrams of the pattern in the given string.\n",
    "Input: String=\"ppqp\", Pattern=\"pq\"\n",
    "Output: [1, 2]\n",
    "Explanation: The two anagrams of the pattern in the given string are \"pq\" and \"qp\".\n",
    "\n",
    "Time Complexity #\n",
    "The time complexity of the above algorithm will be O(N + M)O(N+M) where ‘N’ and ‘M’ are the number of characters in the input string and the pattern respectively.\n",
    "\n",
    "Space Complexity #\n",
    "The space complexity of the algorithm is O(M)O(M) since in the worst case, the whole pattern can have distinct characters which will go into the HashMap. In the worst case, we also need O(N)O(N) space for the result list, this will happen when the pattern has only one character and the string contains only that character.\n",
    "\n"
   ]
  },
  {
   "cell_type": "code",
   "execution_count": 22,
   "metadata": {},
   "outputs": [
    {
     "name": "stdout",
     "output_type": "stream",
     "text": [
      "[1, 2]\n",
      "[2, 3, 4]\n"
     ]
    }
   ],
   "source": [
    "# Similar to example 4, In this problem, we need to find every occurrence of any permutation of the pattern in the string. We will use a list to store the starting indices of the anagrams of the pattern in the string.\n",
    "def find_string_anagrams(str1, pattern):\n",
    "    window_start, matched = 0, 0\n",
    "    char_frequency = {}\n",
    "\n",
    "    for chr in pattern:\n",
    "        if chr not in char_frequency:\n",
    "            char_frequency[chr] = 0\n",
    "        char_frequency[chr] += 1\n",
    "\n",
    "    result_indices = []\n",
    "    # Our goal is to match all the characters from the 'char_frequency' with the current window\n",
    "    # try to extend the range [window_start, window_end]\n",
    "    for window_end in range(len(str1)):\n",
    "        right_char = str1[window_end]\n",
    "        if right_char in char_frequency:\n",
    "            # Decrement the frequency of matched character\n",
    "            char_frequency[right_char] -= 1\n",
    "            if char_frequency[right_char] == 0:\n",
    "                matched += 1\n",
    "\n",
    "        if matched == len(char_frequency):  # Have we found an anagram?\n",
    "            result_indices.append(window_start)\n",
    "\n",
    "        # Shrink the sliding window\n",
    "        if window_end >= len(pattern) - 1:\n",
    "            left_char = str1[window_start]\n",
    "            window_start += 1\n",
    "            if left_char in char_frequency:\n",
    "                if char_frequency[left_char] == 0:\n",
    "                    matched -= 1  # Before putting the character back, decrement the matched count\n",
    "                char_frequency[left_char] += 1  # Put the character back\n",
    "\n",
    "    return result_indices\n",
    "\n",
    "\n",
    "def main():\n",
    "    print(find_string_anagrams(\"ppqp\", \"pq\"))\n",
    "    print(find_string_anagrams(\"abbcabc\", \"abc\"))\n",
    "\n",
    "\n",
    "main()"
   ]
  },
  {
   "cell_type": "markdown",
   "metadata": {},
   "source": [
    "#### Words Concatenation (hard)\n",
    "Given a string and a list of words, find all the starting indices of substrings in the given string that are a concatenation of all the given words exactly once without any overlapping of words. It is given that all words are of the same length.\n",
    "\n",
    "Example 1:\n",
    "\n",
    "Input: String=\"catfoxcat\", Words=[\"cat\", \"fox\"]\n",
    "Output: [0, 3]\n",
    "Explanation: The two substring containing both the words are \"catfox\" & \"foxcat\".\n",
    "We will keep track of all the words in a HashMap and try to match them in the given string. Here are the set of steps for our algorithm:2. Starting from every index in the string, try to match all the words.\n",
    "\n",
    "1. Keep the frequency of every word in a HashMap.\n",
    "2. Starting from every index in the string, try to match all the words.\n",
    "3. In each iteration, keep track of all the words that we have already seen in another HashMap.\n",
    "4. If a word is not found or has a higher frequency than required, we can move on to the next character in the string.\n",
    "5. Store the index if we have found all the words."
   ]
  },
  {
   "cell_type": "code",
   "execution_count": null,
   "metadata": {},
   "outputs": [],
   "source": [
    "def find_word_concatenation(str1, words):\n",
    "    if len(words) == 0 or len(words[0]) == 0:\n",
    "        return []\n",
    "\n",
    "    word_frequency = {}\n",
    "\n",
    "    for word in words:\n",
    "        if word not in word_frequency:\n",
    "            word_frequency[word] = 0\n",
    "        word_frequency[word] += 1\n",
    "\n",
    "        result_indices = []\n",
    "        words_count = len(words)\n",
    "        word_length = len(words[0])\n",
    "\n",
    "    for i in range((len(str1) - words_count * word_length)+1):\n",
    "            words_seen = {}\n",
    "        for j in range(0, words_count):\n",
    "        next_word_index = i + j * word_length\n",
    "        # Get the next word from the string\n",
    "        word = str1[next_word_index: next_word_index + word_length]\n",
    "        if word not in word_frequency:  # Break if we don't need this word\n",
    "        break\n",
    "\n",
    "        # Add the word to the 'words_seen' map\n",
    "        if word not in words_seen:\n",
    "        words_seen[word] = 0\n",
    "        words_seen[word] += 1\n",
    "\n",
    "        # No need to process further if the word has higher frequency than required\n",
    "        if words_seen[word] > word_frequency.get(word, 0):\n",
    "        break\n",
    "\n",
    "        if j + 1 == words_count:  # Store index if we have found all the words\n",
    "        result_indices.append(i)\n",
    "\n",
    "        return result_indices\n",
    "\n",
    "\n",
    "def main():\n",
    "    print(find_word_concatenation(\"catfoxcat\", [\"cat\", \"fox\"]))\n",
    "    print(find_word_concatenation(\"catcatfoxfox\", [\"cat\", \"fox\"]))\n",
    "\n",
    "\n",
    "main()"
   ]
  }
 ],
 "metadata": {
  "kernelspec": {
   "display_name": "Python 2",
   "language": "python",
   "name": "python2"
  },
  "language_info": {
   "codemirror_mode": {
    "name": "ipython",
    "version": 2
   },
   "file_extension": ".py",
   "mimetype": "text/x-python",
   "name": "python",
   "nbconvert_exporter": "python",
   "pygments_lexer": "ipython2",
   "version": "2.7.17"
  }
 },
 "nbformat": 4,
 "nbformat_minor": 2
}
